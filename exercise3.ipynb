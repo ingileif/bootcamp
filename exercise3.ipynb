{
 "cells": [
  {
   "cell_type": "code",
   "execution_count": null,
   "metadata": {},
   "outputs": [],
   "source": [
    "import os\n",
    "import glob\n",
    "import numpy as np"
   ]
  },
  {
   "cell_type": "code",
   "execution_count": null,
   "metadata": {},
   "outputs": [],
   "source": [
    "def read_sequence_from_fasta(filename='data/salmonella_spi1_region.fna'):\n",
    "\n",
    "    if not os.path.isfile(filename):\n",
    "        raise RuntimeError('File does not exist.')\n",
    "    \n",
    "    metadata = ''\n",
    "    seq = ''\n",
    "    with open(filename, 'r') as f:\n",
    "        metadata = f.readline().strip()\n",
    "        if not metadata[0] == '>':\n",
    "            seq = metadata\n",
    "        for line in f:\n",
    "            seq += line.strip()\n",
    "        \n",
    "    return metadata, seq"
   ]
  },
  {
   "cell_type": "code",
   "execution_count": null,
   "metadata": {},
   "outputs": [],
   "source": [
    "meta, seq = read_sequence_from_fasta_file('data/salmonella_spi1_region.fna')"
   ]
  },
  {
   "cell_type": "raw",
   "metadata": {},
   "source": [
    "meta"
   ]
  },
  {
   "cell_type": "raw",
   "metadata": {},
   "source": []
  },
  {
   "cell_type": "markdown",
   "metadata": {},
   "source": []
  },
  {
   "cell_type": "code",
   "execution_count": null,
   "metadata": {},
   "outputs": [],
   "source": []
  }
 ],
 "metadata": {
  "kernelspec": {
   "display_name": "Python 3",
   "language": "python",
   "name": "python3"
  },
  "language_info": {
   "codemirror_mode": {
    "name": "ipython",
    "version": 3
   },
   "file_extension": ".py",
   "mimetype": "text/x-python",
   "name": "python",
   "nbconvert_exporter": "python",
   "pygments_lexer": "ipython3",
   "version": "3.7.6"
  }
 },
 "nbformat": 4,
 "nbformat_minor": 4
}
